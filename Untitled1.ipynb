{
  "nbformat": 4,
  "nbformat_minor": 0,
  "metadata": {
    "colab": {
      "name": "Untitled1.ipynb",
      "provenance": []
    },
    "kernelspec": {
      "name": "python3",
      "display_name": "Python 3"
    },
    "language_info": {
      "name": "python"
    }
  },
  "cells": [
    {
      "cell_type": "markdown",
      "metadata": {
        "id": "Ob8NhH1eObvO"
      },
      "source": [
        "Primeiros Passsos em Python\n"
      ]
    },
    {
      "cell_type": "code",
      "metadata": {
        "colab": {
          "base_uri": "https://localhost:8080/"
        },
        "id": "BFbUMpP3OhZ1",
        "outputId": "2e21370e-7e22-4dc9-801e-891d79a8e69c"
      },
      "source": [
        "5+5"
      ],
      "execution_count": null,
      "outputs": [
        {
          "output_type": "execute_result",
          "data": {
            "text/plain": [
              "10"
            ]
          },
          "metadata": {
            "tags": []
          },
          "execution_count": 1
        }
      ]
    },
    {
      "cell_type": "code",
      "metadata": {
        "colab": {
          "base_uri": "https://localhost:8080/"
        },
        "id": "kkLvhc5_OxxD",
        "outputId": "0a8f028f-d702-45ab-ee75-2eab8da24e45"
      },
      "source": [
        "10-2"
      ],
      "execution_count": null,
      "outputs": [
        {
          "output_type": "execute_result",
          "data": {
            "text/plain": [
              "8"
            ]
          },
          "metadata": {
            "tags": []
          },
          "execution_count": 2
        }
      ]
    },
    {
      "cell_type": "code",
      "metadata": {
        "colab": {
          "base_uri": "https://localhost:8080/"
        },
        "id": "fPEzARFiO0Ny",
        "outputId": "d2b023c9-8882-4f27-d0d0-abd13cd90b38"
      },
      "source": [
        "50/2"
      ],
      "execution_count": null,
      "outputs": [
        {
          "output_type": "execute_result",
          "data": {
            "text/plain": [
              "25.0"
            ]
          },
          "metadata": {
            "tags": []
          },
          "execution_count": 3
        }
      ]
    },
    {
      "cell_type": "code",
      "metadata": {
        "colab": {
          "base_uri": "https://localhost:8080/"
        },
        "id": "jPEXsLkkO7Xs",
        "outputId": "6c86b5fd-7e2d-4563-863a-69a93487e679"
      },
      "source": [
        "print(5+5)"
      ],
      "execution_count": null,
      "outputs": [
        {
          "output_type": "stream",
          "text": [
            "10\n"
          ],
          "name": "stdout"
        }
      ]
    },
    {
      "cell_type": "code",
      "metadata": {
        "id": "oTuXnFnlmGva"
      },
      "source": [
        "a = 5"
      ],
      "execution_count": null,
      "outputs": []
    },
    {
      "cell_type": "code",
      "metadata": {
        "colab": {
          "base_uri": "https://localhost:8080/"
        },
        "id": "UJY14HoWmbPb",
        "outputId": "1f031a24-a747-40a6-f39b-efc1942b6425"
      },
      "source": [
        "a"
      ],
      "execution_count": null,
      "outputs": [
        {
          "output_type": "execute_result",
          "data": {
            "text/plain": [
              "5"
            ]
          },
          "metadata": {
            "tags": []
          },
          "execution_count": 8
        }
      ]
    },
    {
      "cell_type": "code",
      "metadata": {
        "colab": {
          "base_uri": "https://localhost:8080/"
        },
        "id": "S5LljYYTnMeK",
        "outputId": "16305dbb-abcb-4cd4-8121-50a978217840"
      },
      "source": [
        "print(a)"
      ],
      "execution_count": null,
      "outputs": [
        {
          "output_type": "stream",
          "text": [
            "5\n"
          ],
          "name": "stdout"
        }
      ]
    },
    {
      "cell_type": "code",
      "metadata": {
        "id": "6F85h5KinWTe"
      },
      "source": [
        "b = 10"
      ],
      "execution_count": null,
      "outputs": []
    },
    {
      "cell_type": "code",
      "metadata": {
        "colab": {
          "base_uri": "https://localhost:8080/"
        },
        "id": "qnPf9gglnZnB",
        "outputId": "994bb39e-f6de-4c8f-b54b-7456caceae7f"
      },
      "source": [
        "a + b"
      ],
      "execution_count": null,
      "outputs": [
        {
          "output_type": "execute_result",
          "data": {
            "text/plain": [
              "15"
            ]
          },
          "metadata": {
            "tags": []
          },
          "execution_count": 11
        }
      ]
    },
    {
      "cell_type": "code",
      "metadata": {
        "colab": {
          "base_uri": "https://localhost:8080/"
        },
        "id": "NYx7khNBnfO5",
        "outputId": "e2810794-a191-4e63-c437-83b65e5cf227"
      },
      "source": [
        "a * b "
      ],
      "execution_count": null,
      "outputs": [
        {
          "output_type": "execute_result",
          "data": {
            "text/plain": [
              "50"
            ]
          },
          "metadata": {
            "tags": []
          },
          "execution_count": 12
        }
      ]
    },
    {
      "cell_type": "code",
      "metadata": {
        "id": "km6xVor2npjo"
      },
      "source": [
        "y = 'ok'"
      ],
      "execution_count": null,
      "outputs": []
    },
    {
      "cell_type": "code",
      "metadata": {
        "colab": {
          "base_uri": "https://localhost:8080/"
        },
        "id": "BZ2l3m5An0MC",
        "outputId": "e0b9b442-5dae-49f6-9a5e-1fbd34136fb1"
      },
      "source": [
        "print(y)"
      ],
      "execution_count": null,
      "outputs": [
        {
          "output_type": "stream",
          "text": [
            "ok\n"
          ],
          "name": "stdout"
        }
      ]
    },
    {
      "cell_type": "code",
      "metadata": {
        "id": "1m1WehhCn4Nx"
      },
      "source": [
        "soma = a + b"
      ],
      "execution_count": null,
      "outputs": []
    },
    {
      "cell_type": "code",
      "metadata": {
        "colab": {
          "base_uri": "https://localhost:8080/"
        },
        "id": "lz72kFM6n-Bb",
        "outputId": "7a4cdc0b-86dc-4f03-95b0-b1ce10afe4b3"
      },
      "source": [
        "print(soma)"
      ],
      "execution_count": null,
      "outputs": [
        {
          "output_type": "stream",
          "text": [
            "15\n"
          ],
          "name": "stdout"
        }
      ]
    },
    {
      "cell_type": "code",
      "metadata": {
        "id": "SAdf5_NloAol"
      },
      "source": [
        "z = 10 + 50"
      ],
      "execution_count": null,
      "outputs": []
    },
    {
      "cell_type": "code",
      "metadata": {
        "colab": {
          "base_uri": "https://localhost:8080/"
        },
        "id": "gvphbogeoD2z",
        "outputId": "34bd8d5a-d649-41b9-b602-145b408bfa11"
      },
      "source": [
        "print(z)"
      ],
      "execution_count": null,
      "outputs": [
        {
          "output_type": "stream",
          "text": [
            "60\n"
          ],
          "name": "stdout"
        }
      ]
    },
    {
      "cell_type": "code",
      "metadata": {
        "colab": {
          "base_uri": "https://localhost:8080/"
        },
        "id": "vNxAxPODoLQN",
        "outputId": "533f5c37-df06-466e-f8e2-ef7cfa580a3a"
      },
      "source": [
        "10 +++++ 50"
      ],
      "execution_count": null,
      "outputs": [
        {
          "output_type": "execute_result",
          "data": {
            "text/plain": [
              "60"
            ]
          },
          "metadata": {
            "tags": []
          },
          "execution_count": 19
        }
      ]
    },
    {
      "cell_type": "code",
      "metadata": {
        "colab": {
          "base_uri": "https://localhost:8080/"
        },
        "id": "5yLz6WzsoRRJ",
        "outputId": "5d93b38a-5917-4dca-a39c-2338fd68667c"
      },
      "source": [
        "10 ** 2"
      ],
      "execution_count": null,
      "outputs": [
        {
          "output_type": "execute_result",
          "data": {
            "text/plain": [
              "100"
            ]
          },
          "metadata": {
            "tags": []
          },
          "execution_count": 20
        }
      ]
    },
    {
      "cell_type": "markdown",
      "metadata": {
        "id": "br1NHNs_sE-t"
      },
      "source": [
        "**Variáveis em Python**"
      ]
    },
    {
      "cell_type": "code",
      "metadata": {
        "colab": {
          "base_uri": "https://localhost:8080/"
        },
        "id": "pMp2CLp8sW51",
        "outputId": "655562bd-0cf4-463b-8873-1c9cf5d889cf"
      },
      "source": [
        "x = 5\n",
        "print(x)"
      ],
      "execution_count": null,
      "outputs": [
        {
          "output_type": "stream",
          "text": [
            "5\n"
          ],
          "name": "stdout"
        }
      ]
    },
    {
      "cell_type": "code",
      "metadata": {
        "colab": {
          "base_uri": "https://localhost:8080/"
        },
        "id": "gpSow2Disoab",
        "outputId": "212e8f94-2f7c-4ed0-d0bd-fbb4cfa294cb"
      },
      "source": [
        "y = 'Python'\n",
        "print(y)"
      ],
      "execution_count": null,
      "outputs": [
        {
          "output_type": "stream",
          "text": [
            "Python\n"
          ],
          "name": "stdout"
        }
      ]
    },
    {
      "cell_type": "code",
      "metadata": {
        "colab": {
          "base_uri": "https://localhost:8080/"
        },
        "id": "pG2vmKy9s4Am",
        "outputId": "decd1c51-0063-47b3-afa8-c97a20706708"
      },
      "source": [
        "z = \"Python\"\n",
        "print(z)"
      ],
      "execution_count": null,
      "outputs": [
        {
          "output_type": "stream",
          "text": [
            "Python\n"
          ],
          "name": "stdout"
        }
      ]
    },
    {
      "cell_type": "code",
      "metadata": {
        "colab": {
          "base_uri": "https://localhost:8080/"
        },
        "id": "FjUF-6jAtH3g",
        "outputId": "3a098aee-975c-4515-c7c2-eb71826dfa35"
      },
      "source": [
        "z = 'Java'\n",
        "print(z)"
      ],
      "execution_count": null,
      "outputs": [
        {
          "output_type": "stream",
          "text": [
            "Java\n"
          ],
          "name": "stdout"
        }
      ]
    },
    {
      "cell_type": "code",
      "metadata": {
        "colab": {
          "base_uri": "https://localhost:8080/"
        },
        "id": "2daxz1sltUJw",
        "outputId": "afe87478-1d32-429f-f79d-2b945cd8fc2a"
      },
      "source": [
        "print(z)"
      ],
      "execution_count": null,
      "outputs": [
        {
          "output_type": "stream",
          "text": [
            "Java\n"
          ],
          "name": "stdout"
        }
      ]
    },
    {
      "cell_type": "code",
      "metadata": {
        "colab": {
          "base_uri": "https://localhost:8080/"
        },
        "id": "U3zmfsagtk6V",
        "outputId": "3d868bea-4912-4018-e387-bd5736899989"
      },
      "source": [
        "print(z)"
      ],
      "execution_count": null,
      "outputs": [
        {
          "output_type": "stream",
          "text": [
            "Python\n"
          ],
          "name": "stdout"
        }
      ]
    },
    {
      "cell_type": "code",
      "metadata": {
        "id": "4OV8RNCEtp-n"
      },
      "source": [
        "a = 'Letra minuscula'"
      ],
      "execution_count": null,
      "outputs": []
    },
    {
      "cell_type": "code",
      "metadata": {
        "id": "mAVyCpM6tv50"
      },
      "source": [
        "A = 'Letra Maiuscula'"
      ],
      "execution_count": null,
      "outputs": []
    },
    {
      "cell_type": "code",
      "metadata": {
        "colab": {
          "base_uri": "https://localhost:8080/"
        },
        "id": "UgHVN-7pt0eA",
        "outputId": "ee81c5d0-094b-48f9-e035-171c5df78b0c"
      },
      "source": [
        "print(a)"
      ],
      "execution_count": null,
      "outputs": [
        {
          "output_type": "stream",
          "text": [
            "Letra minuscula\n"
          ],
          "name": "stdout"
        }
      ]
    },
    {
      "cell_type": "code",
      "metadata": {
        "colab": {
          "base_uri": "https://localhost:8080/"
        },
        "id": "MpaqhSNpt3oC",
        "outputId": "dae643b9-de5c-4d25-d63e-ab993f21410f"
      },
      "source": [
        "print(A)"
      ],
      "execution_count": null,
      "outputs": [
        {
          "output_type": "stream",
          "text": [
            "Letra Maiuscula\n"
          ],
          "name": "stdout"
        }
      ]
    },
    {
      "cell_type": "code",
      "metadata": {
        "id": "WqXMrwu9uBKe"
      },
      "source": [
        "Cod_num = 3152014"
      ],
      "execution_count": null,
      "outputs": []
    },
    {
      "cell_type": "code",
      "metadata": {
        "id": "taXVdQ0HuI0A"
      },
      "source": [
        "cod_num = 3558695"
      ],
      "execution_count": null,
      "outputs": []
    },
    {
      "cell_type": "markdown",
      "metadata": {
        "id": "7J1HMIObwSh4"
      },
      "source": [
        "Identação em Python"
      ]
    },
    {
      "cell_type": "code",
      "metadata": {
        "colab": {
          "base_uri": "https://localhost:8080/"
        },
        "id": "qcnnAx51wthm",
        "outputId": "f2cb4a7a-7226-411b-bb19-5fc616407062"
      },
      "source": [
        "if 10 > 5:\n",
        "    print('Dez é maior do que cinco')\n"
      ],
      "execution_count": null,
      "outputs": [
        {
          "output_type": "stream",
          "text": [
            "Dez é maior do que cinco\n"
          ],
          "name": "stdout"
        }
      ]
    },
    {
      "cell_type": "code",
      "metadata": {
        "colab": {
          "base_uri": "https://localhost:8080/"
        },
        "id": "0MLq24EUxJbN",
        "outputId": "2a040453-2b59-4853-a039-907227483892"
      },
      "source": [
        "if 10 > 5:\n",
        "  print('Dez é maior do que cinco')"
      ],
      "execution_count": null,
      "outputs": [
        {
          "output_type": "stream",
          "text": [
            "Dez é maior do que cinco\n"
          ],
          "name": "stdout"
        }
      ]
    },
    {
      "cell_type": "code",
      "metadata": {
        "colab": {
          "base_uri": "https://localhost:8080/"
        },
        "id": "nMTH8XGyxYkj",
        "outputId": "562df242-e66f-4f5f-9e3f-4e21085eb6f4"
      },
      "source": [
        "if 7 > 3:\n",
        "  print('Sete é maior do que três')\n",
        "  if 10 > 5:\n",
        "    print('Dez é maior do que cinco')"
      ],
      "execution_count": null,
      "outputs": [
        {
          "output_type": "stream",
          "text": [
            "Sete é maior do que três\n",
            "Dez é maior do que cinco\n"
          ],
          "name": "stdout"
        }
      ]
    },
    {
      "cell_type": "code",
      "metadata": {
        "colab": {
          "base_uri": "https://localhost:8080/"
        },
        "id": "24FZH9qyxp6k",
        "outputId": "90a4bee7-167f-4db8-89ce-2840a9f691e0"
      },
      "source": [
        "if 10 > 5:\n",
        "  print('Dez é maior do que cinco')  "
      ],
      "execution_count": null,
      "outputs": [
        {
          "output_type": "stream",
          "text": [
            "Dez é maior do que cinco\n"
          ],
          "name": "stdout"
        }
      ]
    },
    {
      "cell_type": "markdown",
      "metadata": {
        "id": "gDTYi9wQyMR7"
      },
      "source": [
        "Comentários em Python"
      ]
    },
    {
      "cell_type": "code",
      "metadata": {
        "id": "yOONz1gRyOrH"
      },
      "source": [
        "# Coméntario em python"
      ],
      "execution_count": null,
      "outputs": []
    },
    {
      "cell_type": "code",
      "metadata": {
        "id": "Ule5G-YqyvbQ"
      },
      "source": [
        "# Criando uma variável do tipo numérico em Python\n",
        "\n",
        "variavel = 50"
      ],
      "execution_count": null,
      "outputs": []
    },
    {
      "cell_type": "code",
      "metadata": {
        "colab": {
          "base_uri": "https://localhost:8080/"
        },
        "id": "FK8C5Xigy8pG",
        "outputId": "f6c03e8a-8f50-426c-aba3-72cee40ebf89"
      },
      "source": [
        "print(variavel)"
      ],
      "execution_count": null,
      "outputs": [
        {
          "output_type": "stream",
          "text": [
            "50\n"
          ],
          "name": "stdout"
        }
      ]
    },
    {
      "cell_type": "code",
      "metadata": {
        "id": "s6JYrd7t23N8"
      },
      "source": [
        "# Criando uma variável do tipo String\n",
        "\n",
        "texto = 'Variável tipo string'"
      ],
      "execution_count": null,
      "outputs": []
    },
    {
      "cell_type": "code",
      "metadata": {
        "colab": {
          "base_uri": "https://localhost:8080/"
        },
        "id": "TlQ-kmFS3C9B",
        "outputId": "5c3e50a6-2f82-4e3e-a102-0ea86702efd0"
      },
      "source": [
        "print(texto)"
      ],
      "execution_count": null,
      "outputs": [
        {
          "output_type": "stream",
          "text": [
            "Variável tipo string\n"
          ],
          "name": "stdout"
        }
      ]
    },
    {
      "cell_type": "code",
      "metadata": {
        "id": "A6K1rNXU3Frf"
      },
      "source": [
        "bebida = 'água' # Criando uma variável de bebida"
      ],
      "execution_count": null,
      "outputs": []
    },
    {
      "cell_type": "code",
      "metadata": {
        "colab": {
          "base_uri": "https://localhost:8080/"
        },
        "id": "DFwybKr23ZUc",
        "outputId": "cc87de93-1767-44f5-eadc-ff46e2ec4efc"
      },
      "source": [
        "print(bebida)"
      ],
      "execution_count": null,
      "outputs": [
        {
          "output_type": "stream",
          "text": [
            "água\n"
          ],
          "name": "stdout"
        }
      ]
    },
    {
      "cell_type": "code",
      "metadata": {
        "id": "VL-4EF1z3eNK"
      },
      "source": [
        "# linha 1\n",
        "# Linha 2\n",
        "# Linha 3\n",
        "# Linha 4"
      ],
      "execution_count": null,
      "outputs": []
    },
    {
      "cell_type": "code",
      "metadata": {
        "id": "vKs_09OM3le1"
      },
      "source": [
        "'''\n",
        "Linha 1\n",
        "Linha 2\n",
        "Linha 3\n",
        "Linha 4\n",
        "'''"
      ],
      "execution_count": null,
      "outputs": []
    },
    {
      "cell_type": "code",
      "metadata": {
        "colab": {
          "base_uri": "https://localhost:8080/",
          "height": 35
        },
        "id": "2qsHGrHC31qA",
        "outputId": "2208cd17-37b3-4eff-c7db-14d02cb23fb1"
      },
      "source": [
        "\"\"\"\n",
        "Linha 1\n",
        "Linha 2\n",
        "Linha 3\n",
        "Linha 4\n",
        "\"\"\""
      ],
      "execution_count": null,
      "outputs": [
        {
          "output_type": "execute_result",
          "data": {
            "application/vnd.google.colaboratory.intrinsic+json": {
              "type": "string"
            },
            "text/plain": [
              "'\\nLinha 1\\nLinha 2\\nLinha 3\\nLinha 4\\n'"
            ]
          },
          "metadata": {
            "tags": []
          },
          "execution_count": 58
        }
      ]
    },
    {
      "cell_type": "code",
      "metadata": {
        "id": "0XOupdh2Gj-w"
      },
      "source": [
        "a = 1.88"
      ],
      "execution_count": null,
      "outputs": []
    },
    {
      "cell_type": "code",
      "metadata": {
        "colab": {
          "base_uri": "https://localhost:8080/"
        },
        "id": "RbBW0qcCL0lZ",
        "outputId": "d747ecbe-2fab-4be2-ca9f-80bcde0b3a85"
      },
      "source": [
        "print(type(a))"
      ],
      "execution_count": null,
      "outputs": [
        {
          "output_type": "stream",
          "text": [
            "<class 'float'>\n"
          ],
          "name": "stdout"
        }
      ]
    },
    {
      "cell_type": "code",
      "metadata": {
        "id": "i79PQ8kSMBpn"
      },
      "source": [
        "b = 35"
      ],
      "execution_count": null,
      "outputs": []
    },
    {
      "cell_type": "code",
      "metadata": {
        "colab": {
          "base_uri": "https://localhost:8080/"
        },
        "id": "WxB69xNDME-K",
        "outputId": "56c15a0c-7066-461d-bf73-0feb8bd39657"
      },
      "source": [
        "print(type(b))"
      ],
      "execution_count": null,
      "outputs": [
        {
          "output_type": "stream",
          "text": [
            "<class 'int'>\n"
          ],
          "name": "stdout"
        }
      ]
    },
    {
      "cell_type": "code",
      "metadata": {
        "id": "ixvEXoD_Mb_w"
      },
      "source": [
        "cidades_visitadas = ['Paris', 'Barcelona', 'Chicago', 'Berlim']\n"
      ],
      "execution_count": null,
      "outputs": []
    },
    {
      "cell_type": "code",
      "metadata": {
        "colab": {
          "base_uri": "https://localhost:8080/"
        },
        "id": "-J4Bh3pWMdud",
        "outputId": "84f3db9e-8c0c-4d01-e46f-3c39b4c1c0bf"
      },
      "source": [
        "print(type(cidades_visitadas))"
      ],
      "execution_count": null,
      "outputs": [
        {
          "output_type": "stream",
          "text": [
            "<class 'list'>\n"
          ],
          "name": "stdout"
        }
      ]
    },
    {
      "cell_type": "code",
      "metadata": {
        "id": "NEJh6i46Mxn_"
      },
      "source": [
        "paises_visitados = ('França', 'Espanha', 'Estados Unidos', 'Alemanha')"
      ],
      "execution_count": null,
      "outputs": []
    },
    {
      "cell_type": "code",
      "metadata": {
        "colab": {
          "base_uri": "https://localhost:8080/"
        },
        "id": "mefnGwBIMzd4",
        "outputId": "3fd759ee-268f-4a8c-d789-01a87e4a902b"
      },
      "source": [
        "print(type(paises_visitados))"
      ],
      "execution_count": null,
      "outputs": [
        {
          "output_type": "stream",
          "text": [
            "<class 'tuple'>\n"
          ],
          "name": "stdout"
        }
      ]
    },
    {
      "cell_type": "code",
      "metadata": {
        "id": "1sW9GAwTND6S"
      },
      "source": [
        "notas_cidades = {'Paris':5, 'Barcelona':4, 'Chicago':5, 'Berlim':3}\n"
      ],
      "execution_count": null,
      "outputs": []
    },
    {
      "cell_type": "code",
      "metadata": {
        "colab": {
          "base_uri": "https://localhost:8080/"
        },
        "id": "LChbxM4CNLvC",
        "outputId": "3272cbaa-80ca-47ee-837c-b2d90f1486ca"
      },
      "source": [
        "print(type(notas_cidades))"
      ],
      "execution_count": null,
      "outputs": [
        {
          "output_type": "stream",
          "text": [
            "<class 'dict'>\n"
          ],
          "name": "stdout"
        }
      ]
    },
    {
      "cell_type": "code",
      "metadata": {
        "id": "vP3RFlN4Pi4E"
      },
      "source": [
        "dinheiro_gasto = {1.000}"
      ],
      "execution_count": null,
      "outputs": []
    },
    {
      "cell_type": "code",
      "metadata": {
        "colab": {
          "base_uri": "https://localhost:8080/"
        },
        "id": "-p2piu9kPmoF",
        "outputId": "bb526a13-e4a5-4629-ba04-03a5f6869264"
      },
      "source": [
        "print(type(dinheiro_gasto))"
      ],
      "execution_count": null,
      "outputs": [
        {
          "output_type": "stream",
          "text": [
            "<class 'set'>\n"
          ],
          "name": "stdout"
        }
      ]
    },
    {
      "cell_type": "code",
      "metadata": {
        "id": "7REVCkqpP3r_"
      },
      "source": [
        "dinheiro_guardado = 'R$ 500,00'"
      ],
      "execution_count": null,
      "outputs": []
    },
    {
      "cell_type": "code",
      "metadata": {
        "colab": {
          "base_uri": "https://localhost:8080/"
        },
        "id": "0zpIcb5CP5pu",
        "outputId": "d4436d9f-9150-4825-fdaf-310db013d391"
      },
      "source": [
        "print(type(dinheiro_guardado))"
      ],
      "execution_count": null,
      "outputs": [
        {
          "output_type": "stream",
          "text": [
            "<class 'str'>\n"
          ],
          "name": "stdout"
        }
      ]
    },
    {
      "cell_type": "code",
      "metadata": {
        "id": "udtDNng2Q3wH"
      },
      "source": [
        "proximas_viagens = ['Moscou', 'Londres', 'Lisboa']"
      ],
      "execution_count": null,
      "outputs": []
    },
    {
      "cell_type": "code",
      "metadata": {
        "id": "OcWjMU-LQ9xE",
        "colab": {
          "base_uri": "https://localhost:8080/"
        },
        "outputId": "ee16f4dc-9b3d-4a62-adc1-d3bddc4d8cc8"
      },
      "source": [
        "print(proximas_viagens)"
      ],
      "execution_count": null,
      "outputs": [
        {
          "output_type": "stream",
          "text": [
            "['Moscou', 'Londres', 'Lisboa']\n"
          ],
          "name": "stdout"
        }
      ]
    },
    {
      "cell_type": "code",
      "metadata": {
        "colab": {
          "base_uri": "https://localhost:8080/"
        },
        "id": "2WOZW6JXwJa4",
        "outputId": "02106d89-0f9e-4a0d-fa38-f56a38d04490"
      },
      "source": [
        "lista_compras = ['chocolate', 'arroz', 'milho']\n",
        "print(lista_compras)\n",
        "    "
      ],
      "execution_count": null,
      "outputs": [
        {
          "output_type": "stream",
          "text": [
            "['chocolate', 'arroz', 'milho']\n"
          ],
          "name": "stdout"
        }
      ]
    },
    {
      "cell_type": "markdown",
      "metadata": {
        "id": "ZkeoSZzG7E0P"
      },
      "source": [
        "**Listas (Arrays)**"
      ]
    },
    {
      "cell_type": "code",
      "metadata": {
        "id": "5x77Y7Or7JN9"
      },
      "source": [
        "frutas = ['banana','laranja', 'abacate','melancia', 'caju', 'abacaxi']\n",
        "saldo_alunos = [500.00, 1200.00, 600.00, 50000.00]\n",
        "num_pacientes = [25,36,45,22,33,89]"
      ],
      "execution_count": null,
      "outputs": []
    },
    {
      "cell_type": "code",
      "metadata": {
        "colab": {
          "base_uri": "https://localhost:8080/"
        },
        "id": "EaDLSgSK8SOJ",
        "outputId": "5459c6cd-e581-40aa-a681-f0aefbef4c22"
      },
      "source": [
        "print(frutas)"
      ],
      "execution_count": null,
      "outputs": [
        {
          "output_type": "stream",
          "text": [
            "['banana', 'laranja', 'abacate', 'melancia', 'caju', 'abacaxi']\n"
          ],
          "name": "stdout"
        }
      ]
    },
    {
      "cell_type": "code",
      "metadata": {
        "colab": {
          "base_uri": "https://localhost:8080/"
        },
        "id": "VshFiYSR8Wy2",
        "outputId": "f048d0cf-508d-4d53-b981-ab2df3d10e9b"
      },
      "source": [
        "print(saldo_alunos)"
      ],
      "execution_count": null,
      "outputs": [
        {
          "output_type": "stream",
          "text": [
            "[500.0, 1200.0, 600.0, 50000.0]\n"
          ],
          "name": "stdout"
        }
      ]
    },
    {
      "cell_type": "code",
      "metadata": {
        "colab": {
          "base_uri": "https://localhost:8080/"
        },
        "id": "X_XFa6cp8Z62",
        "outputId": "7a796e71-9fa5-41eb-98f7-a4e9db138355"
      },
      "source": [
        "print(num_pacientes)"
      ],
      "execution_count": null,
      "outputs": [
        {
          "output_type": "stream",
          "text": [
            "[25, 36, 45, 22, 33, 89]\n"
          ],
          "name": "stdout"
        }
      ]
    },
    {
      "cell_type": "markdown",
      "metadata": {
        "id": "OaHkOrh88k-u"
      },
      "source": [
        "**Permite Duplicados**"
      ]
    },
    {
      "cell_type": "code",
      "metadata": {
        "id": "mCDotoNA8pIk"
      },
      "source": [
        "frutas_dup = ['banana','laranja','abacate','melancia','caju','abacaxi','banana','laranja', 'abacate']"
      ],
      "execution_count": null,
      "outputs": []
    },
    {
      "cell_type": "code",
      "metadata": {
        "colab": {
          "base_uri": "https://localhost:8080/"
        },
        "id": "5xTd56Zi9SJs",
        "outputId": "a7909259-aa6f-40ec-e653-2f30d7461cc1"
      },
      "source": [
        "print(frutas_dup)"
      ],
      "execution_count": null,
      "outputs": [
        {
          "output_type": "stream",
          "text": [
            "['banana', 'laranja', 'abacate', 'melancia', 'caju', 'abacaxi', 'banana', 'laranja', 'abacate']\n"
          ],
          "name": "stdout"
        }
      ]
    },
    {
      "cell_type": "markdown",
      "metadata": {
        "id": "KGLbJlG79VQc"
      },
      "source": [
        "**Calcular tamanho da lista**"
      ]
    },
    {
      "cell_type": "code",
      "metadata": {
        "colab": {
          "base_uri": "https://localhost:8080/"
        },
        "id": "RE5NGdT49ZvM",
        "outputId": "fbe0ab09-cb1f-45f9-da41-b04b824560eb"
      },
      "source": [
        "len(saldo_alunos)"
      ],
      "execution_count": null,
      "outputs": [
        {
          "output_type": "execute_result",
          "data": {
            "text/plain": [
              "4"
            ]
          },
          "metadata": {
            "tags": []
          },
          "execution_count": 40
        }
      ]
    },
    {
      "cell_type": "code",
      "metadata": {
        "colab": {
          "base_uri": "https://localhost:8080/"
        },
        "id": "xazmMFUA9dm0",
        "outputId": "f1241a3b-cb7e-4e5b-9420-3aef779c049f"
      },
      "source": [
        "len(num_pacientes)"
      ],
      "execution_count": null,
      "outputs": [
        {
          "output_type": "execute_result",
          "data": {
            "text/plain": [
              "6"
            ]
          },
          "metadata": {
            "tags": []
          },
          "execution_count": 41
        }
      ]
    },
    {
      "cell_type": "markdown",
      "metadata": {
        "id": "NX4SNg18_1l0"
      },
      "source": [
        "**Uma lista pode conter diferentes tipos de dados (codigos)**"
      ]
    },
    {
      "cell_type": "code",
      "metadata": {
        "id": "nnFrlkXQ_-QF"
      },
      "source": [
        "variados = [10,2.5,'Python']"
      ],
      "execution_count": null,
      "outputs": []
    },
    {
      "cell_type": "code",
      "metadata": {
        "colab": {
          "base_uri": "https://localhost:8080/"
        },
        "id": "3djM-YLYAInk",
        "outputId": "84de593c-1dc4-4220-d1a6-aa5f2b12b709"
      },
      "source": [
        "print(variados)"
      ],
      "execution_count": null,
      "outputs": [
        {
          "output_type": "stream",
          "text": [
            "[10, 2.5, 'Python']\n"
          ],
          "name": "stdout"
        }
      ]
    },
    {
      "cell_type": "markdown",
      "metadata": {
        "id": "WvRIdtojAOWK"
      },
      "source": [
        "**Acessar um item da lista**"
      ]
    },
    {
      "cell_type": "code",
      "metadata": {
        "id": "U0wBUNAdARID"
      },
      "source": [
        "frutas = ['banana','laranja', 'abacate','melancia', 'caju', 'abacaxi']\n",
        "saldo_alunos = [500.00, 1200.00, 600.00, 50000.00]\n",
        "num_pacientes = [25,36,45,22,33,89]"
      ],
      "execution_count": null,
      "outputs": []
    },
    {
      "cell_type": "code",
      "metadata": {
        "colab": {
          "base_uri": "https://localhost:8080/"
        },
        "id": "6PInsK4eAYQC",
        "outputId": "9f5f2d0c-0bb6-4f5e-b127-9a3d1a4748bc"
      },
      "source": [
        "print(frutas[2])"
      ],
      "execution_count": null,
      "outputs": [
        {
          "output_type": "stream",
          "text": [
            "abacate\n"
          ],
          "name": "stdout"
        }
      ]
    },
    {
      "cell_type": "code",
      "metadata": {
        "colab": {
          "base_uri": "https://localhost:8080/"
        },
        "id": "slg1N70yAjfm",
        "outputId": "2870338b-badd-4fba-8a3d-c8c72e3e431c"
      },
      "source": [
        "print(frutas[3])"
      ],
      "execution_count": null,
      "outputs": [
        {
          "output_type": "stream",
          "text": [
            "melancia\n"
          ],
          "name": "stdout"
        }
      ]
    },
    {
      "cell_type": "markdown",
      "metadata": {
        "id": "VFaa0bObAp7r"
      },
      "source": [
        "**Adicionando itens na lista**"
      ]
    },
    {
      "cell_type": "code",
      "metadata": {
        "id": "AZvR1vl2Asac"
      },
      "source": [
        "frutas.append('morango')"
      ],
      "execution_count": null,
      "outputs": []
    },
    {
      "cell_type": "code",
      "metadata": {
        "colab": {
          "base_uri": "https://localhost:8080/"
        },
        "id": "lTr8S4SOBtlp",
        "outputId": "b23ff853-5a0b-429c-ab82-b98b75bbf971"
      },
      "source": [
        "print(frutas)"
      ],
      "execution_count": null,
      "outputs": [
        {
          "output_type": "stream",
          "text": [
            "['banana', 'laranja', 'abacate', 'melancia', 'caju', 'abacaxi', 'morango']\n"
          ],
          "name": "stdout"
        }
      ]
    },
    {
      "cell_type": "markdown",
      "metadata": {
        "id": "ZRJ9o_SpCL9Z"
      },
      "source": [
        "**Unir Listas**"
      ]
    },
    {
      "cell_type": "code",
      "metadata": {
        "id": "LL66rohwCOAz"
      },
      "source": [
        "saldo_alunos.extend(num_pacientes)"
      ],
      "execution_count": null,
      "outputs": []
    },
    {
      "cell_type": "code",
      "metadata": {
        "colab": {
          "base_uri": "https://localhost:8080/"
        },
        "id": "JAyVVKbkC7lF",
        "outputId": "598ffb34-4381-4c6c-fe8c-c8af8a54b8dd"
      },
      "source": [
        "print(saldo_alunos)"
      ],
      "execution_count": null,
      "outputs": [
        {
          "output_type": "stream",
          "text": [
            "[500.0, 1200.0, 600.0, 50000.0, 25, 36, 45, 22, 33, 89]\n"
          ],
          "name": "stdout"
        }
      ]
    },
    {
      "cell_type": "code",
      "metadata": {
        "id": "ud1pf_1lQFj3"
      },
      "source": [
        "soma = lambda x, y: x + y"
      ],
      "execution_count": null,
      "outputs": []
    }
  ]
}